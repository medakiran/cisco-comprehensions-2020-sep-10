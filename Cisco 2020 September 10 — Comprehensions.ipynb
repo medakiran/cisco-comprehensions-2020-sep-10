{
 "cells": [
  {
   "cell_type": "code",
   "execution_count": 1,
   "metadata": {},
   "outputs": [],
   "source": [
    "# list comprehensions\n",
    "# dict comprehensions\n",
    "# set comprehensions\n"
   ]
  },
  {
   "cell_type": "code",
   "execution_count": 2,
   "metadata": {},
   "outputs": [
    {
     "data": {
      "text/plain": [
       "[0, 1, 2, 3, 4, 5, 6, 7, 8, 9]"
      ]
     },
     "execution_count": 2,
     "metadata": {},
     "output_type": "execute_result"
    }
   ],
   "source": [
    "numbers = list(range(10))\n",
    "numbers"
   ]
  },
  {
   "cell_type": "code",
   "execution_count": 3,
   "metadata": {},
   "outputs": [
    {
     "data": {
      "text/plain": [
       "[0, 1, 4, 9, 16, 25, 36, 49, 64, 81]"
      ]
     },
     "execution_count": 3,
     "metadata": {},
     "output_type": "execute_result"
    }
   ],
   "source": [
    "# I want to have a list of the elements of \"numbers\" squared\n",
    "\n",
    "output = []\n",
    "\n",
    "for one_number in numbers:\n",
    "    output.append(one_number ** 2)\n",
    "    \n",
    "output"
   ]
  },
  {
   "cell_type": "code",
   "execution_count": 4,
   "metadata": {},
   "outputs": [
    {
     "data": {
      "text/plain": [
       "[0, 1, 4, 9, 16, 25, 36, 49, 64, 81]"
      ]
     },
     "execution_count": 4,
     "metadata": {},
     "output_type": "execute_result"
    }
   ],
   "source": [
    "# list comprehension\n",
    "\n",
    "[one_number ** 2 for one_number in numbers]"
   ]
  },
  {
   "cell_type": "code",
   "execution_count": 5,
   "metadata": {},
   "outputs": [],
   "source": [
    "mylist = [10, 20, 30]  # creating a list!"
   ]
  },
  {
   "cell_type": "code",
   "execution_count": 6,
   "metadata": {},
   "outputs": [],
   "source": [
    "mylist = list((10, 20, 30, 40))  # creating a list!"
   ]
  },
  {
   "cell_type": "code",
   "execution_count": 7,
   "metadata": {},
   "outputs": [],
   "source": [
    "mylist = 'abc def ghi'.split()  # also creating a list!"
   ]
  },
  {
   "cell_type": "code",
   "execution_count": 8,
   "metadata": {},
   "outputs": [
    {
     "data": {
      "text/plain": [
       "[0, 1, 4, 9, 16, 25, 36, 49, 64, 81]"
      ]
     },
     "execution_count": 8,
     "metadata": {},
     "output_type": "execute_result"
    }
   ],
   "source": [
    "# list comprehension\n",
    "\n",
    "[one_number ** 2                # SELECT\n",
    " for one_number in numbers]     # FROM"
   ]
  },
  {
   "cell_type": "code",
   "execution_count": null,
   "metadata": {},
   "outputs": [],
   "source": [
    "# if you want to perform an action many times, use a for loop\n",
    "\n",
    "# if you want to create a new list, use a comprehension"
   ]
  },
  {
   "cell_type": "code",
   "execution_count": 9,
   "metadata": {},
   "outputs": [
    {
     "data": {
      "text/plain": [
       "[(0, 0),\n",
       " (1, 1),\n",
       " (4, 8),\n",
       " (9, 27),\n",
       " (16, 64),\n",
       " (25, 125),\n",
       " (36, 216),\n",
       " (49, 343),\n",
       " (64, 512),\n",
       " (81, 729)]"
      ]
     },
     "execution_count": 9,
     "metadata": {},
     "output_type": "execute_result"
    }
   ],
   "source": [
    "[(one_number ** 2, one_number **3)                # SELECT\n",
    " for one_number in numbers]     # FROM"
   ]
  },
  {
   "cell_type": "code",
   "execution_count": 10,
   "metadata": {},
   "outputs": [
    {
     "data": {
      "text/plain": [
       "[(0, 0),\n",
       " (1, 1),\n",
       " (4, 8),\n",
       " (9, 27),\n",
       " (16, 64),\n",
       " (25, 125),\n",
       " (36, 216),\n",
       " (49, 343),\n",
       " (64, 512),\n",
       " (81, 729)]"
      ]
     },
     "execution_count": 10,
     "metadata": {},
     "output_type": "execute_result"
    }
   ],
   "source": [
    "def square_and_cube(n):\n",
    "    return n**2, n**3\n",
    "\n",
    "[square_and_cube(one_number)\n",
    "for one_number in numbers]"
   ]
  },
  {
   "cell_type": "code",
   "execution_count": 11,
   "metadata": {},
   "outputs": [
    {
     "data": {
      "text/plain": [
       "'abcd*efgh*ijklmn'"
      ]
     },
     "execution_count": 11,
     "metadata": {},
     "output_type": "execute_result"
    }
   ],
   "source": [
    "mylist = ['abcd', 'efgh', 'ijklmn']\n",
    "\n",
    "'*'.join(mylist)"
   ]
  },
  {
   "cell_type": "code",
   "execution_count": 12,
   "metadata": {},
   "outputs": [
    {
     "ename": "TypeError",
     "evalue": "sequence item 0: expected str instance, int found",
     "output_type": "error",
     "traceback": [
      "\u001b[0;31m---------------------------------------------------------------------------\u001b[0m",
      "\u001b[0;31mTypeError\u001b[0m                                 Traceback (most recent call last)",
      "\u001b[0;32m<ipython-input-12-9c4a6762defa>\u001b[0m in \u001b[0;36m<module>\u001b[0;34m\u001b[0m\n\u001b[1;32m      1\u001b[0m \u001b[0mmylist\u001b[0m \u001b[0;34m=\u001b[0m \u001b[0;34m[\u001b[0m\u001b[0;36m100\u001b[0m\u001b[0;34m,\u001b[0m \u001b[0;36m200\u001b[0m\u001b[0;34m,\u001b[0m \u001b[0;36m300\u001b[0m\u001b[0;34m]\u001b[0m\u001b[0;34m\u001b[0m\u001b[0;34m\u001b[0m\u001b[0m\n\u001b[1;32m      2\u001b[0m \u001b[0;34m\u001b[0m\u001b[0m\n\u001b[0;32m----> 3\u001b[0;31m \u001b[0;34m'*'\u001b[0m\u001b[0;34m.\u001b[0m\u001b[0mjoin\u001b[0m\u001b[0;34m(\u001b[0m\u001b[0mmylist\u001b[0m\u001b[0;34m)\u001b[0m\u001b[0;34m\u001b[0m\u001b[0;34m\u001b[0m\u001b[0m\n\u001b[0m",
      "\u001b[0;31mTypeError\u001b[0m: sequence item 0: expected str instance, int found"
     ]
    }
   ],
   "source": [
    "mylist = [100, 200, 300]\n",
    "\n",
    "'*'.join(mylist)"
   ]
  },
  {
   "cell_type": "code",
   "execution_count": 13,
   "metadata": {},
   "outputs": [
    {
     "data": {
      "text/plain": [
       "['100', '200', '300']"
      ]
     },
     "execution_count": 13,
     "metadata": {},
     "output_type": "execute_result"
    }
   ],
   "source": [
    "[str(one_item)\n",
    "for one_item in mylist]"
   ]
  },
  {
   "cell_type": "code",
   "execution_count": 14,
   "metadata": {},
   "outputs": [
    {
     "data": {
      "text/plain": [
       "'100*200*300'"
      ]
     },
     "execution_count": 14,
     "metadata": {},
     "output_type": "execute_result"
    }
   ],
   "source": [
    "'*'.join([str(one_item)\n",
    "         for one_item in mylist])"
   ]
  },
  {
   "cell_type": "markdown",
   "metadata": {},
   "source": [
    "# Exercises\n",
    "\n",
    "1. Ask the user to enter several numbers, separated by spaces (using the `input` function). Break those apart, and then sum the numbers.\n",
    "\n",
    "2. Ask the user to enter a sentence. Count the number of non-space/non-whitespace characters in what they entered, using a list comprehension.\n",
    "\n",
    "Several points:\n",
    "\n",
    "1. You can break a string apart with `str.split`\n",
    "2. You can sum a list of numbers with `sum`\n",
    "3. You can get the length of a string with `len`"
   ]
  },
  {
   "cell_type": "code",
   "execution_count": 15,
   "metadata": {},
   "outputs": [
    {
     "name": "stdout",
     "output_type": "stream",
     "text": [
      "Enter some numbers: 10 20 30 40 50\n"
     ]
    }
   ],
   "source": [
    "s = input(\"Enter some numbers: \")"
   ]
  },
  {
   "cell_type": "code",
   "execution_count": 16,
   "metadata": {},
   "outputs": [
    {
     "data": {
      "text/plain": [
       "'10 20 30 40 50'"
      ]
     },
     "execution_count": 16,
     "metadata": {},
     "output_type": "execute_result"
    }
   ],
   "source": [
    "s"
   ]
  },
  {
   "cell_type": "code",
   "execution_count": 20,
   "metadata": {},
   "outputs": [
    {
     "data": {
      "text/plain": [
       "150"
      ]
     },
     "execution_count": 20,
     "metadata": {},
     "output_type": "execute_result"
    }
   ],
   "source": [
    "sum([int(one_item)\n",
    " for one_item in s.split()])"
   ]
  },
  {
   "cell_type": "code",
   "execution_count": 21,
   "metadata": {},
   "outputs": [
    {
     "name": "stdout",
     "output_type": "stream",
     "text": [
      "Enter a sentence: This is a fantastic example\n"
     ]
    }
   ],
   "source": [
    "s = input(\"Enter a sentence: \")"
   ]
  },
  {
   "cell_type": "code",
   "execution_count": 24,
   "metadata": {},
   "outputs": [
    {
     "data": {
      "text/plain": [
       "23"
      ]
     },
     "execution_count": 24,
     "metadata": {},
     "output_type": "execute_result"
    }
   ],
   "source": [
    "sum([len(one_word)\n",
    " for one_word in s.split()])"
   ]
  },
  {
   "cell_type": "code",
   "execution_count": 25,
   "metadata": {},
   "outputs": [
    {
     "data": {
      "text/plain": [
       "['##\\n',\n",
       " '# User Database\\n',\n",
       " '# \\n',\n",
       " '# Note that this file is consulted directly only when the system is running\\n',\n",
       " '# in single-user mode.  At other times this information is provided by\\n',\n",
       " '# Open Directory.\\n',\n",
       " '#\\n',\n",
       " '# See the opendirectoryd(8) man page for additional information about\\n',\n",
       " '# Open Directory.\\n',\n",
       " '##\\n',\n",
       " 'nobody:*:-2:-2:Unprivileged User:/var/empty:/usr/bin/false\\n',\n",
       " 'root:*:0:0:System Administrator:/var/root:/bin/sh\\n',\n",
       " 'daemon:*:1:1:System Services:/var/root:/usr/bin/false\\n',\n",
       " '_uucp:*:4:4:Unix to Unix Copy Protocol:/var/spool/uucp:/usr/sbin/uucico\\n',\n",
       " '_taskgated:*:13:13:Task Gate Daemon:/var/empty:/usr/bin/false\\n',\n",
       " '_networkd:*:24:24:Network Services:/var/networkd:/usr/bin/false\\n',\n",
       " '_installassistant:*:25:25:Install Assistant:/var/empty:/usr/bin/false\\n',\n",
       " '_lp:*:26:26:Printing Services:/var/spool/cups:/usr/bin/false\\n',\n",
       " '_postfix:*:27:27:Postfix Mail Server:/var/spool/postfix:/usr/bin/false\\n',\n",
       " '_scsd:*:31:31:Service Configuration Service:/var/empty:/usr/bin/false\\n',\n",
       " '_ces:*:32:32:Certificate Enrollment Service:/var/empty:/usr/bin/false\\n',\n",
       " '_appstore:*:33:33:Mac App Store Service:/var/db/appstore:/usr/bin/false\\n',\n",
       " '_mcxalr:*:54:54:MCX AppLaunch:/var/empty:/usr/bin/false\\n',\n",
       " '_appleevents:*:55:55:AppleEvents Daemon:/var/empty:/usr/bin/false\\n',\n",
       " '_geod:*:56:56:Geo Services Daemon:/var/db/geod:/usr/bin/false\\n',\n",
       " '_devdocs:*:59:59:Developer Documentation:/var/empty:/usr/bin/false\\n',\n",
       " '_sandbox:*:60:60:Seatbelt:/var/empty:/usr/bin/false\\n',\n",
       " '_mdnsresponder:*:65:65:mDNSResponder:/var/empty:/usr/bin/false\\n',\n",
       " '_ard:*:67:67:Apple Remote Desktop:/var/empty:/usr/bin/false\\n',\n",
       " '_www:*:70:70:World Wide Web Server:/Library/WebServer:/usr/bin/false\\n',\n",
       " '_eppc:*:71:71:Apple Events User:/var/empty:/usr/bin/false\\n',\n",
       " '_cvs:*:72:72:CVS Server:/var/empty:/usr/bin/false\\n',\n",
       " '_svn:*:73:73:SVN Server:/var/empty:/usr/bin/false\\n',\n",
       " '_mysql:*:74:74:MySQL Server:/var/empty:/usr/bin/false\\n',\n",
       " '_sshd:*:75:75:sshd Privilege separation:/var/empty:/usr/bin/false\\n',\n",
       " '_qtss:*:76:76:QuickTime Streaming Server:/var/empty:/usr/bin/false\\n',\n",
       " '_cyrus:*:77:6:Cyrus Administrator:/var/imap:/usr/bin/false\\n',\n",
       " '_mailman:*:78:78:Mailman List Server:/var/empty:/usr/bin/false\\n',\n",
       " '_appserver:*:79:79:Application Server:/var/empty:/usr/bin/false\\n',\n",
       " '_clamav:*:82:82:ClamAV Daemon:/var/virusmails:/usr/bin/false\\n',\n",
       " '_amavisd:*:83:83:AMaViS Daemon:/var/virusmails:/usr/bin/false\\n',\n",
       " '_jabber:*:84:84:Jabber XMPP Server:/var/empty:/usr/bin/false\\n',\n",
       " '_appowner:*:87:87:Application Owner:/var/empty:/usr/bin/false\\n',\n",
       " '_windowserver:*:88:88:WindowServer:/var/empty:/usr/bin/false\\n',\n",
       " '_spotlight:*:89:89:Spotlight:/var/empty:/usr/bin/false\\n',\n",
       " '_tokend:*:91:91:Token Daemon:/var/empty:/usr/bin/false\\n',\n",
       " '_securityagent:*:92:92:SecurityAgent:/var/db/securityagent:/usr/bin/false\\n',\n",
       " '_calendar:*:93:93:Calendar:/var/empty:/usr/bin/false\\n',\n",
       " '_teamsserver:*:94:94:TeamsServer:/var/teamsserver:/usr/bin/false\\n',\n",
       " '_update_sharing:*:95:-2:Update Sharing:/var/empty:/usr/bin/false\\n',\n",
       " '_installer:*:96:-2:Installer:/var/empty:/usr/bin/false\\n',\n",
       " '_atsserver:*:97:97:ATS Server:/var/empty:/usr/bin/false\\n',\n",
       " '_ftp:*:98:-2:FTP Daemon:/var/empty:/usr/bin/false\\n',\n",
       " '_unknown:*:99:99:Unknown User:/var/empty:/usr/bin/false\\n',\n",
       " '_softwareupdate:*:200:200:Software Update Service:/var/db/softwareupdate:/usr/bin/false\\n',\n",
       " '_coreaudiod:*:202:202:Core Audio Daemon:/var/empty:/usr/bin/false\\n',\n",
       " '_screensaver:*:203:203:Screensaver:/var/empty:/usr/bin/false\\n',\n",
       " '_locationd:*:205:205:Location Daemon:/var/db/locationd:/usr/bin/false\\n',\n",
       " '_trustevaluationagent:*:208:208:Trust Evaluation Agent:/var/empty:/usr/bin/false\\n',\n",
       " '_timezone:*:210:210:AutoTimeZoneDaemon:/var/empty:/usr/bin/false\\n',\n",
       " '_lda:*:211:211:Local Delivery Agent:/var/empty:/usr/bin/false\\n',\n",
       " '_cvmsroot:*:212:212:CVMS Root:/var/empty:/usr/bin/false\\n',\n",
       " '_usbmuxd:*:213:213:iPhone OS Device Helper:/var/db/lockdown:/usr/bin/false\\n',\n",
       " '_dovecot:*:214:6:Dovecot Administrator:/var/empty:/usr/bin/false\\n',\n",
       " '_dpaudio:*:215:215:DP Audio:/var/empty:/usr/bin/false\\n',\n",
       " '_postgres:*:216:216:PostgreSQL Server:/var/empty:/usr/bin/false\\n',\n",
       " '_krbtgt:*:217:-2:Kerberos Ticket Granting Ticket:/var/empty:/usr/bin/false\\n',\n",
       " '_kadmin_admin:*:218:-2:Kerberos Admin Service:/var/empty:/usr/bin/false\\n',\n",
       " '_kadmin_changepw:*:219:-2:Kerberos Change Password Service:/var/empty:/usr/bin/false\\n',\n",
       " '_devicemgr:*:220:220:Device Management Server:/var/empty:/usr/bin/false\\n',\n",
       " '_webauthserver:*:221:221:Web Auth Server:/var/empty:/usr/bin/false\\n',\n",
       " '_netbios:*:222:222:NetBIOS:/var/empty:/usr/bin/false\\n',\n",
       " '_warmd:*:224:224:Warm Daemon:/var/empty:/usr/bin/false\\n',\n",
       " '_dovenull:*:227:227:Dovecot Authentication:/var/empty:/usr/bin/false\\n',\n",
       " '_netstatistics:*:228:228:Network Statistics Daemon:/var/empty:/usr/bin/false\\n',\n",
       " '_avbdeviced:*:229:-2:Ethernet AVB Device Daemon:/var/empty:/usr/bin/false\\n',\n",
       " '_krb_krbtgt:*:230:-2:Open Directory Kerberos Ticket Granting Ticket:/var/empty:/usr/bin/false\\n',\n",
       " '_krb_kadmin:*:231:-2:Open Directory Kerberos Admin Service:/var/empty:/usr/bin/false\\n',\n",
       " '_krb_changepw:*:232:-2:Open Directory Kerberos Change Password Service:/var/empty:/usr/bin/false\\n',\n",
       " '_krb_kerberos:*:233:-2:Open Directory Kerberos:/var/empty:/usr/bin/false\\n',\n",
       " '_krb_anonymous:*:234:-2:Open Directory Kerberos Anonymous:/var/empty:/usr/bin/false\\n',\n",
       " '_assetcache:*:235:235:Asset Cache Service:/var/empty:/usr/bin/false\\n',\n",
       " '_coremediaiod:*:236:236:Core Media IO Daemon:/var/empty:/usr/bin/false\\n',\n",
       " '_launchservicesd:*:239:239:_launchservicesd:/var/empty:/usr/bin/false\\n',\n",
       " '_iconservices:*:240:240:IconServices:/var/empty:/usr/bin/false\\n',\n",
       " '_distnote:*:241:241:DistNote:/var/empty:/usr/bin/false\\n',\n",
       " '_nsurlsessiond:*:242:242:NSURLSession Daemon:/var/db/nsurlsessiond:/usr/bin/false\\n',\n",
       " '_nsurlstoraged:*:243:243:NSURLStorage Daemon:/var/db/nsurlstoraged:/usr/bin/false\\n',\n",
       " '_displaypolicyd:*:244:244:Display Policy Daemon:/var/empty:/usr/bin/false\\n',\n",
       " '_astris:*:245:245:Astris Services:/var/db/astris:/usr/bin/false\\n',\n",
       " '_krbfast:*:246:-2:Kerberos FAST Account:/var/empty:/usr/bin/false\\n',\n",
       " '_gamecontrollerd:*:247:247:Game Controller Daemon:/var/empty:/usr/bin/false\\n',\n",
       " '_mbsetupuser:*:248:248:Setup User:/var/setup:/bin/bash\\n',\n",
       " '_ondemand:*:249:249:On Demand Resource Daemon:/var/db/ondemand:/usr/bin/false\\n',\n",
       " '_xserverdocs:*:251:251:macOS Server Documents Service:/var/empty:/usr/bin/false\\n',\n",
       " '_wwwproxy:*:252:252:WWW Proxy:/var/empty:/usr/bin/false\\n',\n",
       " '_mobileasset:*:253:253:MobileAsset User:/var/ma:/usr/bin/false\\n',\n",
       " '_findmydevice:*:254:254:Find My Device Daemon:/var/db/findmydevice:/usr/bin/false\\n',\n",
       " '_datadetectors:*:257:257:DataDetectors:/var/db/datadetectors:/usr/bin/false\\n',\n",
       " '_captiveagent:*:258:258:captiveagent:/var/empty:/usr/bin/false\\n',\n",
       " '_ctkd:*:259:259:ctkd Account:/var/empty:/usr/bin/false\\n',\n",
       " '_applepay:*:260:260:applepay Account:/var/db/applepay:/usr/bin/false\\n',\n",
       " '_hidd:*:261:261:HID Service User:/var/db/hidd:/usr/bin/false\\n',\n",
       " '_cmiodalassistants:*:262:262:CoreMedia IO Assistants User:/var/db/cmiodalassistants:/usr/bin/false\\n',\n",
       " '_analyticsd:*:263:263:Analytics Daemon:/var/db/analyticsd:/usr/bin/false\\n',\n",
       " '_fpsd:*:265:265:FPS Daemon:/var/db/fpsd:/usr/bin/false\\n',\n",
       " '_timed:*:266:266:Time Sync Daemon:/var/db/timed:/usr/bin/false\\n',\n",
       " '_nearbyd:*:268:268:Proximity and Ranging Daemon:/var/db/nearbyd:/usr/bin/false\\n',\n",
       " '_reportmemoryexception:*:269:269:ReportMemoryException:/var/db/reportmemoryexception:/usr/bin/false\\n',\n",
       " '_driverkit:*:270:270:DriverKit:/var/empty:/usr/bin/false\\n']"
      ]
     },
     "execution_count": 25,
     "metadata": {},
     "output_type": "execute_result"
    }
   ],
   "source": [
    "# We can iterate over file objects!\n",
    "\n",
    "[one_line\n",
    "for one_line in open('/etc/passwd')]"
   ]
  },
  {
   "cell_type": "code",
   "execution_count": 27,
   "metadata": {},
   "outputs": [
    {
     "data": {
      "text/plain": [
       "['##\\n',\n",
       " '# User Database\\n',\n",
       " '# \\n',\n",
       " '# Note that this file is consulted directly only when the system is running\\n',\n",
       " '# in single-user mode.  At other times this information is provided by\\n',\n",
       " '# Open Directory.\\n',\n",
       " '#\\n',\n",
       " '# See the opendirectoryd(8) man page for additional information about\\n',\n",
       " '# Open Directory.\\n',\n",
       " '##\\n',\n",
       " 'nobody',\n",
       " 'root',\n",
       " 'daemon',\n",
       " '_uucp',\n",
       " '_taskgated',\n",
       " '_networkd',\n",
       " '_installassistant',\n",
       " '_lp',\n",
       " '_postfix',\n",
       " '_scsd',\n",
       " '_ces',\n",
       " '_appstore',\n",
       " '_mcxalr',\n",
       " '_appleevents',\n",
       " '_geod',\n",
       " '_devdocs',\n",
       " '_sandbox',\n",
       " '_mdnsresponder',\n",
       " '_ard',\n",
       " '_www',\n",
       " '_eppc',\n",
       " '_cvs',\n",
       " '_svn',\n",
       " '_mysql',\n",
       " '_sshd',\n",
       " '_qtss',\n",
       " '_cyrus',\n",
       " '_mailman',\n",
       " '_appserver',\n",
       " '_clamav',\n",
       " '_amavisd',\n",
       " '_jabber',\n",
       " '_appowner',\n",
       " '_windowserver',\n",
       " '_spotlight',\n",
       " '_tokend',\n",
       " '_securityagent',\n",
       " '_calendar',\n",
       " '_teamsserver',\n",
       " '_update_sharing',\n",
       " '_installer',\n",
       " '_atsserver',\n",
       " '_ftp',\n",
       " '_unknown',\n",
       " '_softwareupdate',\n",
       " '_coreaudiod',\n",
       " '_screensaver',\n",
       " '_locationd',\n",
       " '_trustevaluationagent',\n",
       " '_timezone',\n",
       " '_lda',\n",
       " '_cvmsroot',\n",
       " '_usbmuxd',\n",
       " '_dovecot',\n",
       " '_dpaudio',\n",
       " '_postgres',\n",
       " '_krbtgt',\n",
       " '_kadmin_admin',\n",
       " '_kadmin_changepw',\n",
       " '_devicemgr',\n",
       " '_webauthserver',\n",
       " '_netbios',\n",
       " '_warmd',\n",
       " '_dovenull',\n",
       " '_netstatistics',\n",
       " '_avbdeviced',\n",
       " '_krb_krbtgt',\n",
       " '_krb_kadmin',\n",
       " '_krb_changepw',\n",
       " '_krb_kerberos',\n",
       " '_krb_anonymous',\n",
       " '_assetcache',\n",
       " '_coremediaiod',\n",
       " '_launchservicesd',\n",
       " '_iconservices',\n",
       " '_distnote',\n",
       " '_nsurlsessiond',\n",
       " '_nsurlstoraged',\n",
       " '_displaypolicyd',\n",
       " '_astris',\n",
       " '_krbfast',\n",
       " '_gamecontrollerd',\n",
       " '_mbsetupuser',\n",
       " '_ondemand',\n",
       " '_xserverdocs',\n",
       " '_wwwproxy',\n",
       " '_mobileasset',\n",
       " '_findmydevice',\n",
       " '_datadetectors',\n",
       " '_captiveagent',\n",
       " '_ctkd',\n",
       " '_applepay',\n",
       " '_hidd',\n",
       " '_cmiodalassistants',\n",
       " '_analyticsd',\n",
       " '_fpsd',\n",
       " '_timed',\n",
       " '_nearbyd',\n",
       " '_reportmemoryexception',\n",
       " '_driverkit']"
      ]
     },
     "execution_count": 27,
     "metadata": {},
     "output_type": "execute_result"
    }
   ],
   "source": [
    "# I'd like a list of the usernames on my system\n",
    "\n",
    "[one_line.split(\":\")[0]\n",
    "for one_line in open('/etc/passwd')]"
   ]
  },
  {
   "cell_type": "code",
   "execution_count": 28,
   "metadata": {},
   "outputs": [
    {
     "data": {
      "text/plain": [
       "['nobody',\n",
       " 'root',\n",
       " 'daemon',\n",
       " '_uucp',\n",
       " '_taskgated',\n",
       " '_networkd',\n",
       " '_installassistant',\n",
       " '_lp',\n",
       " '_postfix',\n",
       " '_scsd',\n",
       " '_ces',\n",
       " '_appstore',\n",
       " '_mcxalr',\n",
       " '_appleevents',\n",
       " '_geod',\n",
       " '_devdocs',\n",
       " '_sandbox',\n",
       " '_mdnsresponder',\n",
       " '_ard',\n",
       " '_www',\n",
       " '_eppc',\n",
       " '_cvs',\n",
       " '_svn',\n",
       " '_mysql',\n",
       " '_sshd',\n",
       " '_qtss',\n",
       " '_cyrus',\n",
       " '_mailman',\n",
       " '_appserver',\n",
       " '_clamav',\n",
       " '_amavisd',\n",
       " '_jabber',\n",
       " '_appowner',\n",
       " '_windowserver',\n",
       " '_spotlight',\n",
       " '_tokend',\n",
       " '_securityagent',\n",
       " '_calendar',\n",
       " '_teamsserver',\n",
       " '_update_sharing',\n",
       " '_installer',\n",
       " '_atsserver',\n",
       " '_ftp',\n",
       " '_unknown',\n",
       " '_softwareupdate',\n",
       " '_coreaudiod',\n",
       " '_screensaver',\n",
       " '_locationd',\n",
       " '_trustevaluationagent',\n",
       " '_timezone',\n",
       " '_lda',\n",
       " '_cvmsroot',\n",
       " '_usbmuxd',\n",
       " '_dovecot',\n",
       " '_dpaudio',\n",
       " '_postgres',\n",
       " '_krbtgt',\n",
       " '_kadmin_admin',\n",
       " '_kadmin_changepw',\n",
       " '_devicemgr',\n",
       " '_webauthserver',\n",
       " '_netbios',\n",
       " '_warmd',\n",
       " '_dovenull',\n",
       " '_netstatistics',\n",
       " '_avbdeviced',\n",
       " '_krb_krbtgt',\n",
       " '_krb_kadmin',\n",
       " '_krb_changepw',\n",
       " '_krb_kerberos',\n",
       " '_krb_anonymous',\n",
       " '_assetcache',\n",
       " '_coremediaiod',\n",
       " '_launchservicesd',\n",
       " '_iconservices',\n",
       " '_distnote',\n",
       " '_nsurlsessiond',\n",
       " '_nsurlstoraged',\n",
       " '_displaypolicyd',\n",
       " '_astris',\n",
       " '_krbfast',\n",
       " '_gamecontrollerd',\n",
       " '_mbsetupuser',\n",
       " '_ondemand',\n",
       " '_xserverdocs',\n",
       " '_wwwproxy',\n",
       " '_mobileasset',\n",
       " '_findmydevice',\n",
       " '_datadetectors',\n",
       " '_captiveagent',\n",
       " '_ctkd',\n",
       " '_applepay',\n",
       " '_hidd',\n",
       " '_cmiodalassistants',\n",
       " '_analyticsd',\n",
       " '_fpsd',\n",
       " '_timed',\n",
       " '_nearbyd',\n",
       " '_reportmemoryexception',\n",
       " '_driverkit']"
      ]
     },
     "execution_count": 28,
     "metadata": {},
     "output_type": "execute_result"
    }
   ],
   "source": [
    "[one_line.split(\":\")[0]               # SELECT\n",
    "for one_line in open('/etc/passwd')   # FROM\n",
    "if one_line[0] != '#']                # WHERE"
   ]
  },
  {
   "cell_type": "code",
   "execution_count": 29,
   "metadata": {
    "collapsed": true
   },
   "outputs": [
    {
     "data": {
      "text/plain": [
       "['nobody',\n",
       " 'root',\n",
       " 'daemon',\n",
       " '_uucp',\n",
       " '_taskgated',\n",
       " '_networkd',\n",
       " '_installassistant',\n",
       " '_lp',\n",
       " '_postfix',\n",
       " '_scsd',\n",
       " '_ces',\n",
       " '_appstore',\n",
       " '_mcxalr',\n",
       " '_appleevents',\n",
       " '_geod',\n",
       " '_devdocs',\n",
       " '_sandbox',\n",
       " '_mdnsresponder',\n",
       " '_ard',\n",
       " '_www',\n",
       " '_eppc',\n",
       " '_cvs',\n",
       " '_svn',\n",
       " '_mysql',\n",
       " '_sshd',\n",
       " '_qtss',\n",
       " '_cyrus',\n",
       " '_mailman',\n",
       " '_appserver',\n",
       " '_clamav',\n",
       " '_amavisd',\n",
       " '_jabber',\n",
       " '_appowner',\n",
       " '_windowserver',\n",
       " '_spotlight',\n",
       " '_tokend',\n",
       " '_securityagent',\n",
       " '_calendar',\n",
       " '_teamsserver',\n",
       " '_update_sharing',\n",
       " '_installer',\n",
       " '_atsserver',\n",
       " '_ftp',\n",
       " '_unknown',\n",
       " '_softwareupdate',\n",
       " '_coreaudiod',\n",
       " '_screensaver',\n",
       " '_locationd',\n",
       " '_trustevaluationagent',\n",
       " '_timezone',\n",
       " '_lda',\n",
       " '_cvmsroot',\n",
       " '_usbmuxd',\n",
       " '_dovecot',\n",
       " '_dpaudio',\n",
       " '_postgres',\n",
       " '_krbtgt',\n",
       " '_kadmin_admin',\n",
       " '_kadmin_changepw',\n",
       " '_devicemgr',\n",
       " '_webauthserver',\n",
       " '_netbios',\n",
       " '_warmd',\n",
       " '_dovenull',\n",
       " '_netstatistics',\n",
       " '_avbdeviced',\n",
       " '_krb_krbtgt',\n",
       " '_krb_kadmin',\n",
       " '_krb_changepw',\n",
       " '_krb_kerberos',\n",
       " '_krb_anonymous',\n",
       " '_assetcache',\n",
       " '_coremediaiod',\n",
       " '_launchservicesd',\n",
       " '_iconservices',\n",
       " '_distnote',\n",
       " '_nsurlsessiond',\n",
       " '_nsurlstoraged',\n",
       " '_displaypolicyd',\n",
       " '_astris',\n",
       " '_krbfast',\n",
       " '_gamecontrollerd',\n",
       " '_mbsetupuser',\n",
       " '_ondemand',\n",
       " '_xserverdocs',\n",
       " '_wwwproxy',\n",
       " '_mobileasset',\n",
       " '_findmydevice',\n",
       " '_datadetectors',\n",
       " '_captiveagent',\n",
       " '_ctkd',\n",
       " '_applepay',\n",
       " '_hidd',\n",
       " '_cmiodalassistants',\n",
       " '_analyticsd',\n",
       " '_fpsd',\n",
       " '_timed',\n",
       " '_nearbyd',\n",
       " '_reportmemoryexception',\n",
       " '_driverkit']"
      ]
     },
     "execution_count": 29,
     "metadata": {},
     "output_type": "execute_result"
    }
   ],
   "source": [
    "[one_line.split(\":\")[0] for one_line in open('/etc/passwd')  if one_line[0] != '#'] "
   ]
  },
  {
   "cell_type": "markdown",
   "metadata": {},
   "source": [
    "# Exercises\n",
    "\n",
    "(I'm going to use files from https://files.lerner.co.il/, intro/basic Python examples.)\n",
    "\n",
    "1. The file `nums.txt` contains either 0 or 1 integer on each line. Sum the numbers in this file.\n",
    "\n",
    "2. The file `mini-access-log.txt` is an Apache logfile. Use a list comprehension to get the IP addresses that made requests to the server. (The IP address is the first thing on each line.)"
   ]
  },
  {
   "cell_type": "code",
   "execution_count": 30,
   "metadata": {},
   "outputs": [
    {
     "name": "stdout",
     "output_type": "stream",
     "text": [
      "5\r\n",
      "\t10     \r\n",
      "\t20\r\n",
      "  \t3\r\n",
      "\t\t   \t20        \r\n",
      "\r\n",
      " 25\r\n"
     ]
    }
   ],
   "source": [
    "!cat nums.txt"
   ]
  },
  {
   "cell_type": "code",
   "execution_count": 31,
   "metadata": {},
   "outputs": [
    {
     "name": "stdout",
     "output_type": "stream",
     "text": [
      "67.218.116.165 - - [30/Jan/2010:00:03:18 +0200] \"GET /robots.txt HTTP/1.0\" 200 99 \"-\" \"Mozilla/5.0 (Twiceler-0.9 http://www.cuil.com/twiceler/robot.html)\"\r\n",
      "66.249.71.65 - - [30/Jan/2010:00:12:06 +0200] \"GET /browse/one_node/1557 HTTP/1.1\" 200 39208 \"-\" \"Mozilla/5.0 (compatible; Googlebot/2.1; +http://www.google.com/bot.html)\"\r\n",
      "65.55.106.183 - - [30/Jan/2010:01:29:23 +0200] \"GET /robots.txt HTTP/1.1\" 200 99 \"-\" \"msnbot/2.0b (+http://search.msn.com/msnbot.htm)\"\r\n",
      "65.55.106.183 - - [30/Jan/2010:01:30:06 +0200] \"GET /browse/one_model/2162 HTTP/1.1\" 200 2181 \"-\" \"msnbot/2.0b (+http://search.msn.com/msnbot.htm)\"\r\n",
      "66.249.71.65 - - [30/Jan/2010:02:07:14 +0200] \"GET /browse/browse_applet_tab/2593 HTTP/1.1\" 200 10305 \"-\" \"Mozilla/5.0 (compatible; Googlebot/2.1; +http://www.google.com/bot.html)\"\r\n",
      "66.249.71.65 - - [30/Jan/2010:02:10:39 +0200] \"GET /browse/browse_files_tab/2499?tab=true HTTP/1.1\" 200 446 \"-\" \"Mozilla/5.0 (compatible; Googlebot/2.1; +http://www.google.com/bot.html)\"\r\n",
      "66.249.65.12 - - [30/Jan/2010:03:13:34 +0200] \"GET /robots.txt HTTP/1.1\" 200 99 \"-\" \"Mozilla/5.0 (compatible; Googlebot/2.1; +http://www.google.com/bot.html)\"\r\n",
      "66.249.65.12 - - [30/Jan/2010:03:13:34 +0200] \"GET /browse/one_node/2715 HTTP/1.1\" 200 26433 \"-\" \"Mozilla/5.0 (compatible; Googlebot/2.1; +http://www.google.com/bot.html)\"\r\n",
      "66.249.65.12 - - [30/Jan/2010:03:43:39 +0200] \"GET /browse/download_model/1969 HTTP/1.1\" 200 31713 \"-\" \"Mozilla/5.0 (compatible; Googlebot/2.1; +http://www.google.com/bot.html)\"\r\n",
      "66.249.65.12 - - [30/Jan/2010:04:05:43 +0200] \"GET /browse/one_node/1406 HTTP/1.1\" 302 118 \"-\" \"Mozilla/5.0 (compatible; Googlebot/2.1; +http://www.google.com/bot.html)\"\r\n"
     ]
    }
   ],
   "source": [
    "!head mini-access-log.txt"
   ]
  },
  {
   "cell_type": "code",
   "execution_count": 34,
   "metadata": {},
   "outputs": [
    {
     "ename": "ValueError",
     "evalue": "invalid literal for int() with base 10: '\\n'",
     "output_type": "error",
     "traceback": [
      "\u001b[0;31m---------------------------------------------------------------------------\u001b[0m",
      "\u001b[0;31mValueError\u001b[0m                                Traceback (most recent call last)",
      "\u001b[0;32m<ipython-input-34-9729172e3a45>\u001b[0m in \u001b[0;36m<module>\u001b[0;34m\u001b[0m\n\u001b[0;32m----> 1\u001b[0;31m sum([int(one_line)\n\u001b[0m\u001b[1;32m      2\u001b[0m for one_line in open('nums.txt')])\n",
      "\u001b[0;32m<ipython-input-34-9729172e3a45>\u001b[0m in \u001b[0;36m<listcomp>\u001b[0;34m(.0)\u001b[0m\n\u001b[0;32m----> 1\u001b[0;31m sum([int(one_line)\n\u001b[0m\u001b[1;32m      2\u001b[0m for one_line in open('nums.txt')])\n",
      "\u001b[0;31mValueError\u001b[0m: invalid literal for int() with base 10: '\\n'"
     ]
    }
   ],
   "source": [
    "sum([int(one_line)\n",
    "for one_line in open('nums.txt')])"
   ]
  },
  {
   "cell_type": "code",
   "execution_count": 35,
   "metadata": {},
   "outputs": [
    {
     "data": {
      "text/plain": [
       "123"
      ]
     },
     "execution_count": 35,
     "metadata": {},
     "output_type": "execute_result"
    }
   ],
   "source": [
    "int('123')"
   ]
  },
  {
   "cell_type": "code",
   "execution_count": 36,
   "metadata": {},
   "outputs": [
    {
     "data": {
      "text/plain": [
       "123"
      ]
     },
     "execution_count": 36,
     "metadata": {},
     "output_type": "execute_result"
    }
   ],
   "source": [
    "int('      123       ')"
   ]
  },
  {
   "cell_type": "code",
   "execution_count": 37,
   "metadata": {},
   "outputs": [
    {
     "ename": "ValueError",
     "evalue": "invalid literal for int() with base 10: ''",
     "output_type": "error",
     "traceback": [
      "\u001b[0;31m---------------------------------------------------------------------------\u001b[0m",
      "\u001b[0;31mValueError\u001b[0m                                Traceback (most recent call last)",
      "\u001b[0;32m<ipython-input-37-e4f84bb32d50>\u001b[0m in \u001b[0;36m<module>\u001b[0;34m\u001b[0m\n\u001b[0;32m----> 1\u001b[0;31m \u001b[0mint\u001b[0m\u001b[0;34m(\u001b[0m\u001b[0;34m''\u001b[0m\u001b[0;34m)\u001b[0m\u001b[0;34m\u001b[0m\u001b[0;34m\u001b[0m\u001b[0m\n\u001b[0m",
      "\u001b[0;31mValueError\u001b[0m: invalid literal for int() with base 10: ''"
     ]
    }
   ],
   "source": [
    "int('')"
   ]
  },
  {
   "cell_type": "code",
   "execution_count": 38,
   "metadata": {},
   "outputs": [
    {
     "ename": "ValueError",
     "evalue": "invalid literal for int() with base 10: '\\n'",
     "output_type": "error",
     "traceback": [
      "\u001b[0;31m---------------------------------------------------------------------------\u001b[0m",
      "\u001b[0;31mValueError\u001b[0m                                Traceback (most recent call last)",
      "\u001b[0;32m<ipython-input-38-609413985ae8>\u001b[0m in \u001b[0;36m<module>\u001b[0;34m\u001b[0m\n\u001b[0;32m----> 1\u001b[0;31m \u001b[0mint\u001b[0m\u001b[0;34m(\u001b[0m\u001b[0;34m'\\n'\u001b[0m\u001b[0;34m)\u001b[0m\u001b[0;34m\u001b[0m\u001b[0;34m\u001b[0m\u001b[0m\n\u001b[0m",
      "\u001b[0;31mValueError\u001b[0m: invalid literal for int() with base 10: '\\n'"
     ]
    }
   ],
   "source": [
    "int('\\n')"
   ]
  },
  {
   "cell_type": "code",
   "execution_count": 40,
   "metadata": {},
   "outputs": [
    {
     "data": {
      "text/plain": [
       "83"
      ]
     },
     "execution_count": 40,
     "metadata": {},
     "output_type": "execute_result"
    }
   ],
   "source": [
    "sum([int(one_line)\n",
    " for one_line in open('nums.txt')\n",
    "if one_line[0] != '\\n'])"
   ]
  },
  {
   "cell_type": "code",
   "execution_count": 41,
   "metadata": {},
   "outputs": [
    {
     "data": {
      "text/plain": [
       "83"
      ]
     },
     "execution_count": 41,
     "metadata": {},
     "output_type": "execute_result"
    }
   ],
   "source": [
    "sum([int(one_line)\n",
    " for one_line in open('nums.txt')\n",
    "if not one_line.startswith('\\n')])"
   ]
  },
  {
   "cell_type": "code",
   "execution_count": 42,
   "metadata": {},
   "outputs": [
    {
     "data": {
      "text/plain": [
       "83"
      ]
     },
     "execution_count": 42,
     "metadata": {},
     "output_type": "execute_result"
    }
   ],
   "source": [
    "sum([int(one_line)\n",
    " for one_line in open('nums.txt')\n",
    "if one_line.strip()])   # if anything is left after removing whitespace, that's fine"
   ]
  },
  {
   "cell_type": "code",
   "execution_count": 43,
   "metadata": {},
   "outputs": [
    {
     "data": {
      "text/plain": [
       "83"
      ]
     },
     "execution_count": 43,
     "metadata": {},
     "output_type": "execute_result"
    }
   ],
   "source": [
    "sum([int(one_line)\n",
    " for one_line in open('nums.txt')\n",
    "if one_line.strip().isdigit()]) # remove whitespace, then check are all characters 0-9?"
   ]
  },
  {
   "cell_type": "code",
   "execution_count": 46,
   "metadata": {
    "collapsed": true
   },
   "outputs": [
    {
     "data": {
      "text/plain": [
       "['67.218.116.165',\n",
       " '66.249.71.65',\n",
       " '65.55.106.183',\n",
       " '65.55.106.183',\n",
       " '66.249.71.65',\n",
       " '66.249.71.65',\n",
       " '66.249.65.12',\n",
       " '66.249.65.12',\n",
       " '66.249.65.12',\n",
       " '66.249.65.12',\n",
       " '66.249.65.12',\n",
       " '65.55.106.131',\n",
       " '65.55.106.131',\n",
       " '66.249.65.12',\n",
       " '66.249.65.12',\n",
       " '66.249.65.12',\n",
       " '66.249.65.12',\n",
       " '66.249.65.12',\n",
       " '66.249.65.12',\n",
       " '66.249.65.12',\n",
       " '65.55.106.186',\n",
       " '65.55.106.186',\n",
       " '66.249.65.12',\n",
       " '66.249.65.12',\n",
       " '66.249.65.12',\n",
       " '74.52.245.146',\n",
       " '74.52.245.146',\n",
       " '66.249.65.43',\n",
       " '66.249.65.43',\n",
       " '66.249.65.43',\n",
       " '66.249.65.12',\n",
       " '66.249.65.12',\n",
       " '66.249.65.12',\n",
       " '66.249.65.12',\n",
       " '66.249.65.12',\n",
       " '66.249.65.12',\n",
       " '65.55.207.25',\n",
       " '65.55.207.25',\n",
       " '66.249.65.12',\n",
       " '66.249.65.12',\n",
       " '66.249.65.12',\n",
       " '66.249.65.12',\n",
       " '66.249.65.12',\n",
       " '66.249.65.12',\n",
       " '66.249.65.12',\n",
       " '65.55.207.94',\n",
       " '65.55.207.94',\n",
       " '66.249.65.12',\n",
       " '65.55.207.71',\n",
       " '66.249.65.12',\n",
       " '66.249.65.12',\n",
       " '66.249.65.12',\n",
       " '98.242.170.241',\n",
       " '66.249.65.38',\n",
       " '66.249.65.38',\n",
       " '66.249.65.38',\n",
       " '66.249.65.38',\n",
       " '66.249.65.38',\n",
       " '66.249.65.38',\n",
       " '66.249.65.38',\n",
       " '66.249.65.38',\n",
       " '66.249.65.38',\n",
       " '66.249.65.38',\n",
       " '66.249.65.38',\n",
       " '66.249.65.38',\n",
       " '66.249.65.38',\n",
       " '66.249.65.38',\n",
       " '66.249.65.38',\n",
       " '66.249.65.38',\n",
       " '66.249.65.38',\n",
       " '66.249.65.38',\n",
       " '66.249.65.38',\n",
       " '66.249.65.38',\n",
       " '66.249.65.38',\n",
       " '66.249.65.38',\n",
       " '66.249.65.38',\n",
       " '66.249.65.38',\n",
       " '66.249.65.38',\n",
       " '66.249.65.38',\n",
       " '65.55.207.126',\n",
       " '65.55.207.126',\n",
       " '66.249.65.38',\n",
       " '66.249.65.38',\n",
       " '66.249.65.38',\n",
       " '66.249.65.38',\n",
       " '82.34.9.20',\n",
       " '82.34.9.20',\n",
       " '66.249.65.38',\n",
       " '66.249.65.38',\n",
       " '66.249.65.38',\n",
       " '66.249.65.38',\n",
       " '66.249.65.38',\n",
       " '66.249.65.38',\n",
       " '66.249.65.38',\n",
       " '66.249.65.38',\n",
       " '66.249.65.38',\n",
       " '65.55.106.155',\n",
       " '65.55.106.155',\n",
       " '66.249.65.38',\n",
       " '66.249.65.38',\n",
       " '66.249.65.38',\n",
       " '66.249.65.38',\n",
       " '66.249.65.38',\n",
       " '65.55.207.77',\n",
       " '65.55.207.77',\n",
       " '66.249.65.38',\n",
       " '67.218.116.165',\n",
       " '66.249.65.38',\n",
       " '208.80.193.28',\n",
       " '66.249.65.38',\n",
       " '66.249.65.38',\n",
       " '66.249.65.38',\n",
       " '66.249.65.38',\n",
       " '66.249.65.38',\n",
       " '66.249.65.38',\n",
       " '66.249.65.38',\n",
       " '66.249.65.38',\n",
       " '66.249.65.38',\n",
       " '89.248.172.58',\n",
       " '89.248.172.58',\n",
       " '89.248.172.58',\n",
       " '89.248.172.58',\n",
       " '89.248.172.58',\n",
       " '89.248.172.58',\n",
       " '89.248.172.58',\n",
       " '89.248.172.58',\n",
       " '89.248.172.58',\n",
       " '89.248.172.58',\n",
       " '89.248.172.58',\n",
       " '89.248.172.58',\n",
       " '89.248.172.58',\n",
       " '89.248.172.58',\n",
       " '89.248.172.58',\n",
       " '89.248.172.58',\n",
       " '89.248.172.58',\n",
       " '89.248.172.58',\n",
       " '89.248.172.58',\n",
       " '89.248.172.58',\n",
       " '89.248.172.58',\n",
       " '89.248.172.58',\n",
       " '66.249.65.38',\n",
       " '66.249.65.38',\n",
       " '66.249.65.38',\n",
       " '66.249.65.38',\n",
       " '66.249.65.38',\n",
       " '66.249.65.38',\n",
       " '66.249.65.38',\n",
       " '66.249.65.38',\n",
       " '66.249.65.38',\n",
       " '66.249.65.38',\n",
       " '66.249.65.38',\n",
       " '66.249.65.38',\n",
       " '66.249.65.38',\n",
       " '66.249.65.38',\n",
       " '66.249.65.38',\n",
       " '66.249.65.38',\n",
       " '66.249.65.38',\n",
       " '66.249.65.38',\n",
       " '66.249.65.38',\n",
       " '66.249.65.38',\n",
       " '66.249.65.38',\n",
       " '66.249.65.38',\n",
       " '66.249.65.38',\n",
       " '66.249.65.38',\n",
       " '66.249.65.38',\n",
       " '66.249.65.38',\n",
       " '66.249.65.38',\n",
       " '66.249.65.38',\n",
       " '66.249.65.38',\n",
       " '67.195.112.35',\n",
       " '67.195.112.35',\n",
       " '67.195.112.35',\n",
       " '67.195.112.35',\n",
       " '67.195.112.35',\n",
       " '67.195.112.35',\n",
       " '67.195.112.35',\n",
       " '67.195.112.35',\n",
       " '67.195.112.35',\n",
       " '67.195.112.35',\n",
       " '67.195.112.35',\n",
       " '67.195.112.35',\n",
       " '67.195.112.35',\n",
       " '67.195.112.35',\n",
       " '67.195.112.35',\n",
       " '67.195.112.35',\n",
       " '66.249.65.38',\n",
       " '65.55.207.50',\n",
       " '65.55.207.50',\n",
       " '65.55.207.50',\n",
       " '66.249.65.38',\n",
       " '66.249.65.38',\n",
       " '66.249.65.38',\n",
       " '66.249.65.38',\n",
       " '66.249.65.38',\n",
       " '66.249.65.38',\n",
       " '65.55.215.75',\n",
       " '65.55.215.75',\n",
       " '66.249.65.38',\n",
       " '66.249.65.38',\n",
       " '66.249.65.38',\n",
       " '66.249.65.38',\n",
       " '66.249.65.38',\n",
       " '66.249.65.38',\n",
       " '66.249.65.38',\n",
       " '66.249.65.38',\n",
       " '66.249.65.38']"
      ]
     },
     "execution_count": 46,
     "metadata": {},
     "output_type": "execute_result"
    }
   ],
   "source": [
    "[one_line.split()[0]\n",
    "for one_line in open('mini-access-log.txt')]"
   ]
  },
  {
   "cell_type": "code",
   "execution_count": 47,
   "metadata": {},
   "outputs": [
    {
     "name": "stdout",
     "output_type": "stream",
     "text": [
      "##\r\n",
      "# User Database\r\n",
      "# \r\n",
      "# Note that this file is consulted directly only when the system is running\r\n",
      "# in single-user mode.  At other times this information is provided by\r\n",
      "# Open Directory.\r\n",
      "#\r\n",
      "# See the opendirectoryd(8) man page for additional information about\r\n",
      "# Open Directory.\r\n",
      "##\r\n",
      "nobody:*:-2:-2:Unprivileged User:/var/empty:/usr/bin/false\r\n",
      "root:*:0:0:System Administrator:/var/root:/bin/sh\r\n",
      "daemon:*:1:1:System Services:/var/root:/usr/bin/false\r\n",
      "_uucp:*:4:4:Unix to Unix Copy Protocol:/var/spool/uucp:/usr/sbin/uucico\r\n",
      "_taskgated:*:13:13:Task Gate Daemon:/var/empty:/usr/bin/false\r\n",
      "_networkd:*:24:24:Network Services:/var/networkd:/usr/bin/false\r\n",
      "_installassistant:*:25:25:Install Assistant:/var/empty:/usr/bin/false\r\n",
      "_lp:*:26:26:Printing Services:/var/spool/cups:/usr/bin/false\r\n",
      "_postfix:*:27:27:Postfix Mail Server:/var/spool/postfix:/usr/bin/false\r\n",
      "_scsd:*:31:31:Service Configuration Service:/var/empty:/usr/bin/false\r\n",
      "_ces:*:32:32:Certificate Enrollment Service:/var/empty:/usr/bin/false\r\n",
      "_appstore:*:33:33:Mac App Store Service:/var/db/appstore:/usr/bin/false\r\n",
      "_mcxalr:*:54:54:MCX AppLaunch:/var/empty:/usr/bin/false\r\n",
      "_appleevents:*:55:55:AppleEvents Daemon:/var/empty:/usr/bin/false\r\n",
      "_geod:*:56:56:Geo Services Daemon:/var/db/geod:/usr/bin/false\r\n",
      "_devdocs:*:59:59:Developer Documentation:/var/empty:/usr/bin/false\r\n",
      "_sandbox:*:60:60:Seatbelt:/var/empty:/usr/bin/false\r\n",
      "_mdnsresponder:*:65:65:mDNSResponder:/var/empty:/usr/bin/false\r\n",
      "_ard:*:67:67:Apple Remote Desktop:/var/empty:/usr/bin/false\r\n",
      "_www:*:70:70:World Wide Web Server:/Library/WebServer:/usr/bin/false\r\n"
     ]
    }
   ],
   "source": [
    "!head -30 /etc/passwd"
   ]
  },
  {
   "cell_type": "code",
   "execution_count": 50,
   "metadata": {},
   "outputs": [
    {
     "data": {
      "text/plain": [
       "[['nobody',\n",
       "  '*',\n",
       "  '-2',\n",
       "  '-2',\n",
       "  'Unprivileged User',\n",
       "  '/var/empty',\n",
       "  '/usr/bin/false\\n'],\n",
       " ['root', '*', '0', '0', 'System Administrator', '/var/root', '/bin/sh\\n'],\n",
       " ['daemon', '*', '1', '1', 'System Services', '/var/root', '/usr/bin/false\\n'],\n",
       " ['_uucp',\n",
       "  '*',\n",
       "  '4',\n",
       "  '4',\n",
       "  'Unix to Unix Copy Protocol',\n",
       "  '/var/spool/uucp',\n",
       "  '/usr/sbin/uucico\\n'],\n",
       " ['_taskgated',\n",
       "  '*',\n",
       "  '13',\n",
       "  '13',\n",
       "  'Task Gate Daemon',\n",
       "  '/var/empty',\n",
       "  '/usr/bin/false\\n'],\n",
       " ['_networkd',\n",
       "  '*',\n",
       "  '24',\n",
       "  '24',\n",
       "  'Network Services',\n",
       "  '/var/networkd',\n",
       "  '/usr/bin/false\\n'],\n",
       " ['_installassistant',\n",
       "  '*',\n",
       "  '25',\n",
       "  '25',\n",
       "  'Install Assistant',\n",
       "  '/var/empty',\n",
       "  '/usr/bin/false\\n'],\n",
       " ['_lp',\n",
       "  '*',\n",
       "  '26',\n",
       "  '26',\n",
       "  'Printing Services',\n",
       "  '/var/spool/cups',\n",
       "  '/usr/bin/false\\n'],\n",
       " ['_postfix',\n",
       "  '*',\n",
       "  '27',\n",
       "  '27',\n",
       "  'Postfix Mail Server',\n",
       "  '/var/spool/postfix',\n",
       "  '/usr/bin/false\\n'],\n",
       " ['_scsd',\n",
       "  '*',\n",
       "  '31',\n",
       "  '31',\n",
       "  'Service Configuration Service',\n",
       "  '/var/empty',\n",
       "  '/usr/bin/false\\n'],\n",
       " ['_ces',\n",
       "  '*',\n",
       "  '32',\n",
       "  '32',\n",
       "  'Certificate Enrollment Service',\n",
       "  '/var/empty',\n",
       "  '/usr/bin/false\\n'],\n",
       " ['_appstore',\n",
       "  '*',\n",
       "  '33',\n",
       "  '33',\n",
       "  'Mac App Store Service',\n",
       "  '/var/db/appstore',\n",
       "  '/usr/bin/false\\n'],\n",
       " ['_mcxalr',\n",
       "  '*',\n",
       "  '54',\n",
       "  '54',\n",
       "  'MCX AppLaunch',\n",
       "  '/var/empty',\n",
       "  '/usr/bin/false\\n'],\n",
       " ['_appleevents',\n",
       "  '*',\n",
       "  '55',\n",
       "  '55',\n",
       "  'AppleEvents Daemon',\n",
       "  '/var/empty',\n",
       "  '/usr/bin/false\\n'],\n",
       " ['_geod',\n",
       "  '*',\n",
       "  '56',\n",
       "  '56',\n",
       "  'Geo Services Daemon',\n",
       "  '/var/db/geod',\n",
       "  '/usr/bin/false\\n'],\n",
       " ['_devdocs',\n",
       "  '*',\n",
       "  '59',\n",
       "  '59',\n",
       "  'Developer Documentation',\n",
       "  '/var/empty',\n",
       "  '/usr/bin/false\\n'],\n",
       " ['_sandbox', '*', '60', '60', 'Seatbelt', '/var/empty', '/usr/bin/false\\n'],\n",
       " ['_mdnsresponder',\n",
       "  '*',\n",
       "  '65',\n",
       "  '65',\n",
       "  'mDNSResponder',\n",
       "  '/var/empty',\n",
       "  '/usr/bin/false\\n'],\n",
       " ['_ard',\n",
       "  '*',\n",
       "  '67',\n",
       "  '67',\n",
       "  'Apple Remote Desktop',\n",
       "  '/var/empty',\n",
       "  '/usr/bin/false\\n'],\n",
       " ['_www',\n",
       "  '*',\n",
       "  '70',\n",
       "  '70',\n",
       "  'World Wide Web Server',\n",
       "  '/Library/WebServer',\n",
       "  '/usr/bin/false\\n'],\n",
       " ['_eppc',\n",
       "  '*',\n",
       "  '71',\n",
       "  '71',\n",
       "  'Apple Events User',\n",
       "  '/var/empty',\n",
       "  '/usr/bin/false\\n'],\n",
       " ['_cvs', '*', '72', '72', 'CVS Server', '/var/empty', '/usr/bin/false\\n'],\n",
       " ['_svn', '*', '73', '73', 'SVN Server', '/var/empty', '/usr/bin/false\\n'],\n",
       " ['_mysql', '*', '74', '74', 'MySQL Server', '/var/empty', '/usr/bin/false\\n'],\n",
       " ['_sshd',\n",
       "  '*',\n",
       "  '75',\n",
       "  '75',\n",
       "  'sshd Privilege separation',\n",
       "  '/var/empty',\n",
       "  '/usr/bin/false\\n'],\n",
       " ['_qtss',\n",
       "  '*',\n",
       "  '76',\n",
       "  '76',\n",
       "  'QuickTime Streaming Server',\n",
       "  '/var/empty',\n",
       "  '/usr/bin/false\\n'],\n",
       " ['_cyrus',\n",
       "  '*',\n",
       "  '77',\n",
       "  '6',\n",
       "  'Cyrus Administrator',\n",
       "  '/var/imap',\n",
       "  '/usr/bin/false\\n'],\n",
       " ['_mailman',\n",
       "  '*',\n",
       "  '78',\n",
       "  '78',\n",
       "  'Mailman List Server',\n",
       "  '/var/empty',\n",
       "  '/usr/bin/false\\n'],\n",
       " ['_appserver',\n",
       "  '*',\n",
       "  '79',\n",
       "  '79',\n",
       "  'Application Server',\n",
       "  '/var/empty',\n",
       "  '/usr/bin/false\\n'],\n",
       " ['_clamav',\n",
       "  '*',\n",
       "  '82',\n",
       "  '82',\n",
       "  'ClamAV Daemon',\n",
       "  '/var/virusmails',\n",
       "  '/usr/bin/false\\n'],\n",
       " ['_amavisd',\n",
       "  '*',\n",
       "  '83',\n",
       "  '83',\n",
       "  'AMaViS Daemon',\n",
       "  '/var/virusmails',\n",
       "  '/usr/bin/false\\n'],\n",
       " ['_jabber',\n",
       "  '*',\n",
       "  '84',\n",
       "  '84',\n",
       "  'Jabber XMPP Server',\n",
       "  '/var/empty',\n",
       "  '/usr/bin/false\\n'],\n",
       " ['_appowner',\n",
       "  '*',\n",
       "  '87',\n",
       "  '87',\n",
       "  'Application Owner',\n",
       "  '/var/empty',\n",
       "  '/usr/bin/false\\n'],\n",
       " ['_windowserver',\n",
       "  '*',\n",
       "  '88',\n",
       "  '88',\n",
       "  'WindowServer',\n",
       "  '/var/empty',\n",
       "  '/usr/bin/false\\n'],\n",
       " ['_spotlight',\n",
       "  '*',\n",
       "  '89',\n",
       "  '89',\n",
       "  'Spotlight',\n",
       "  '/var/empty',\n",
       "  '/usr/bin/false\\n'],\n",
       " ['_tokend',\n",
       "  '*',\n",
       "  '91',\n",
       "  '91',\n",
       "  'Token Daemon',\n",
       "  '/var/empty',\n",
       "  '/usr/bin/false\\n'],\n",
       " ['_securityagent',\n",
       "  '*',\n",
       "  '92',\n",
       "  '92',\n",
       "  'SecurityAgent',\n",
       "  '/var/db/securityagent',\n",
       "  '/usr/bin/false\\n'],\n",
       " ['_calendar', '*', '93', '93', 'Calendar', '/var/empty', '/usr/bin/false\\n'],\n",
       " ['_teamsserver',\n",
       "  '*',\n",
       "  '94',\n",
       "  '94',\n",
       "  'TeamsServer',\n",
       "  '/var/teamsserver',\n",
       "  '/usr/bin/false\\n'],\n",
       " ['_update_sharing',\n",
       "  '*',\n",
       "  '95',\n",
       "  '-2',\n",
       "  'Update Sharing',\n",
       "  '/var/empty',\n",
       "  '/usr/bin/false\\n'],\n",
       " ['_installer',\n",
       "  '*',\n",
       "  '96',\n",
       "  '-2',\n",
       "  'Installer',\n",
       "  '/var/empty',\n",
       "  '/usr/bin/false\\n'],\n",
       " ['_atsserver',\n",
       "  '*',\n",
       "  '97',\n",
       "  '97',\n",
       "  'ATS Server',\n",
       "  '/var/empty',\n",
       "  '/usr/bin/false\\n'],\n",
       " ['_ftp', '*', '98', '-2', 'FTP Daemon', '/var/empty', '/usr/bin/false\\n'],\n",
       " ['_unknown',\n",
       "  '*',\n",
       "  '99',\n",
       "  '99',\n",
       "  'Unknown User',\n",
       "  '/var/empty',\n",
       "  '/usr/bin/false\\n'],\n",
       " ['_softwareupdate',\n",
       "  '*',\n",
       "  '200',\n",
       "  '200',\n",
       "  'Software Update Service',\n",
       "  '/var/db/softwareupdate',\n",
       "  '/usr/bin/false\\n'],\n",
       " ['_coreaudiod',\n",
       "  '*',\n",
       "  '202',\n",
       "  '202',\n",
       "  'Core Audio Daemon',\n",
       "  '/var/empty',\n",
       "  '/usr/bin/false\\n'],\n",
       " ['_screensaver',\n",
       "  '*',\n",
       "  '203',\n",
       "  '203',\n",
       "  'Screensaver',\n",
       "  '/var/empty',\n",
       "  '/usr/bin/false\\n'],\n",
       " ['_locationd',\n",
       "  '*',\n",
       "  '205',\n",
       "  '205',\n",
       "  'Location Daemon',\n",
       "  '/var/db/locationd',\n",
       "  '/usr/bin/false\\n'],\n",
       " ['_trustevaluationagent',\n",
       "  '*',\n",
       "  '208',\n",
       "  '208',\n",
       "  'Trust Evaluation Agent',\n",
       "  '/var/empty',\n",
       "  '/usr/bin/false\\n'],\n",
       " ['_timezone',\n",
       "  '*',\n",
       "  '210',\n",
       "  '210',\n",
       "  'AutoTimeZoneDaemon',\n",
       "  '/var/empty',\n",
       "  '/usr/bin/false\\n'],\n",
       " ['_lda',\n",
       "  '*',\n",
       "  '211',\n",
       "  '211',\n",
       "  'Local Delivery Agent',\n",
       "  '/var/empty',\n",
       "  '/usr/bin/false\\n'],\n",
       " ['_cvmsroot',\n",
       "  '*',\n",
       "  '212',\n",
       "  '212',\n",
       "  'CVMS Root',\n",
       "  '/var/empty',\n",
       "  '/usr/bin/false\\n'],\n",
       " ['_usbmuxd',\n",
       "  '*',\n",
       "  '213',\n",
       "  '213',\n",
       "  'iPhone OS Device Helper',\n",
       "  '/var/db/lockdown',\n",
       "  '/usr/bin/false\\n'],\n",
       " ['_dovecot',\n",
       "  '*',\n",
       "  '214',\n",
       "  '6',\n",
       "  'Dovecot Administrator',\n",
       "  '/var/empty',\n",
       "  '/usr/bin/false\\n'],\n",
       " ['_dpaudio', '*', '215', '215', 'DP Audio', '/var/empty', '/usr/bin/false\\n'],\n",
       " ['_postgres',\n",
       "  '*',\n",
       "  '216',\n",
       "  '216',\n",
       "  'PostgreSQL Server',\n",
       "  '/var/empty',\n",
       "  '/usr/bin/false\\n'],\n",
       " ['_krbtgt',\n",
       "  '*',\n",
       "  '217',\n",
       "  '-2',\n",
       "  'Kerberos Ticket Granting Ticket',\n",
       "  '/var/empty',\n",
       "  '/usr/bin/false\\n'],\n",
       " ['_kadmin_admin',\n",
       "  '*',\n",
       "  '218',\n",
       "  '-2',\n",
       "  'Kerberos Admin Service',\n",
       "  '/var/empty',\n",
       "  '/usr/bin/false\\n'],\n",
       " ['_kadmin_changepw',\n",
       "  '*',\n",
       "  '219',\n",
       "  '-2',\n",
       "  'Kerberos Change Password Service',\n",
       "  '/var/empty',\n",
       "  '/usr/bin/false\\n'],\n",
       " ['_devicemgr',\n",
       "  '*',\n",
       "  '220',\n",
       "  '220',\n",
       "  'Device Management Server',\n",
       "  '/var/empty',\n",
       "  '/usr/bin/false\\n'],\n",
       " ['_webauthserver',\n",
       "  '*',\n",
       "  '221',\n",
       "  '221',\n",
       "  'Web Auth Server',\n",
       "  '/var/empty',\n",
       "  '/usr/bin/false\\n'],\n",
       " ['_netbios', '*', '222', '222', 'NetBIOS', '/var/empty', '/usr/bin/false\\n'],\n",
       " ['_warmd',\n",
       "  '*',\n",
       "  '224',\n",
       "  '224',\n",
       "  'Warm Daemon',\n",
       "  '/var/empty',\n",
       "  '/usr/bin/false\\n'],\n",
       " ['_dovenull',\n",
       "  '*',\n",
       "  '227',\n",
       "  '227',\n",
       "  'Dovecot Authentication',\n",
       "  '/var/empty',\n",
       "  '/usr/bin/false\\n'],\n",
       " ['_netstatistics',\n",
       "  '*',\n",
       "  '228',\n",
       "  '228',\n",
       "  'Network Statistics Daemon',\n",
       "  '/var/empty',\n",
       "  '/usr/bin/false\\n'],\n",
       " ['_avbdeviced',\n",
       "  '*',\n",
       "  '229',\n",
       "  '-2',\n",
       "  'Ethernet AVB Device Daemon',\n",
       "  '/var/empty',\n",
       "  '/usr/bin/false\\n'],\n",
       " ['_krb_krbtgt',\n",
       "  '*',\n",
       "  '230',\n",
       "  '-2',\n",
       "  'Open Directory Kerberos Ticket Granting Ticket',\n",
       "  '/var/empty',\n",
       "  '/usr/bin/false\\n'],\n",
       " ['_krb_kadmin',\n",
       "  '*',\n",
       "  '231',\n",
       "  '-2',\n",
       "  'Open Directory Kerberos Admin Service',\n",
       "  '/var/empty',\n",
       "  '/usr/bin/false\\n'],\n",
       " ['_krb_changepw',\n",
       "  '*',\n",
       "  '232',\n",
       "  '-2',\n",
       "  'Open Directory Kerberos Change Password Service',\n",
       "  '/var/empty',\n",
       "  '/usr/bin/false\\n'],\n",
       " ['_krb_kerberos',\n",
       "  '*',\n",
       "  '233',\n",
       "  '-2',\n",
       "  'Open Directory Kerberos',\n",
       "  '/var/empty',\n",
       "  '/usr/bin/false\\n'],\n",
       " ['_krb_anonymous',\n",
       "  '*',\n",
       "  '234',\n",
       "  '-2',\n",
       "  'Open Directory Kerberos Anonymous',\n",
       "  '/var/empty',\n",
       "  '/usr/bin/false\\n'],\n",
       " ['_assetcache',\n",
       "  '*',\n",
       "  '235',\n",
       "  '235',\n",
       "  'Asset Cache Service',\n",
       "  '/var/empty',\n",
       "  '/usr/bin/false\\n'],\n",
       " ['_coremediaiod',\n",
       "  '*',\n",
       "  '236',\n",
       "  '236',\n",
       "  'Core Media IO Daemon',\n",
       "  '/var/empty',\n",
       "  '/usr/bin/false\\n'],\n",
       " ['_launchservicesd',\n",
       "  '*',\n",
       "  '239',\n",
       "  '239',\n",
       "  '_launchservicesd',\n",
       "  '/var/empty',\n",
       "  '/usr/bin/false\\n'],\n",
       " ['_iconservices',\n",
       "  '*',\n",
       "  '240',\n",
       "  '240',\n",
       "  'IconServices',\n",
       "  '/var/empty',\n",
       "  '/usr/bin/false\\n'],\n",
       " ['_distnote',\n",
       "  '*',\n",
       "  '241',\n",
       "  '241',\n",
       "  'DistNote',\n",
       "  '/var/empty',\n",
       "  '/usr/bin/false\\n'],\n",
       " ['_nsurlsessiond',\n",
       "  '*',\n",
       "  '242',\n",
       "  '242',\n",
       "  'NSURLSession Daemon',\n",
       "  '/var/db/nsurlsessiond',\n",
       "  '/usr/bin/false\\n'],\n",
       " ['_nsurlstoraged',\n",
       "  '*',\n",
       "  '243',\n",
       "  '243',\n",
       "  'NSURLStorage Daemon',\n",
       "  '/var/db/nsurlstoraged',\n",
       "  '/usr/bin/false\\n'],\n",
       " ['_displaypolicyd',\n",
       "  '*',\n",
       "  '244',\n",
       "  '244',\n",
       "  'Display Policy Daemon',\n",
       "  '/var/empty',\n",
       "  '/usr/bin/false\\n'],\n",
       " ['_astris',\n",
       "  '*',\n",
       "  '245',\n",
       "  '245',\n",
       "  'Astris Services',\n",
       "  '/var/db/astris',\n",
       "  '/usr/bin/false\\n'],\n",
       " ['_krbfast',\n",
       "  '*',\n",
       "  '246',\n",
       "  '-2',\n",
       "  'Kerberos FAST Account',\n",
       "  '/var/empty',\n",
       "  '/usr/bin/false\\n'],\n",
       " ['_gamecontrollerd',\n",
       "  '*',\n",
       "  '247',\n",
       "  '247',\n",
       "  'Game Controller Daemon',\n",
       "  '/var/empty',\n",
       "  '/usr/bin/false\\n'],\n",
       " ['_mbsetupuser',\n",
       "  '*',\n",
       "  '248',\n",
       "  '248',\n",
       "  'Setup User',\n",
       "  '/var/setup',\n",
       "  '/bin/bash\\n'],\n",
       " ['_ondemand',\n",
       "  '*',\n",
       "  '249',\n",
       "  '249',\n",
       "  'On Demand Resource Daemon',\n",
       "  '/var/db/ondemand',\n",
       "  '/usr/bin/false\\n'],\n",
       " ['_xserverdocs',\n",
       "  '*',\n",
       "  '251',\n",
       "  '251',\n",
       "  'macOS Server Documents Service',\n",
       "  '/var/empty',\n",
       "  '/usr/bin/false\\n'],\n",
       " ['_wwwproxy',\n",
       "  '*',\n",
       "  '252',\n",
       "  '252',\n",
       "  'WWW Proxy',\n",
       "  '/var/empty',\n",
       "  '/usr/bin/false\\n'],\n",
       " ['_mobileasset',\n",
       "  '*',\n",
       "  '253',\n",
       "  '253',\n",
       "  'MobileAsset User',\n",
       "  '/var/ma',\n",
       "  '/usr/bin/false\\n'],\n",
       " ['_findmydevice',\n",
       "  '*',\n",
       "  '254',\n",
       "  '254',\n",
       "  'Find My Device Daemon',\n",
       "  '/var/db/findmydevice',\n",
       "  '/usr/bin/false\\n'],\n",
       " ['_datadetectors',\n",
       "  '*',\n",
       "  '257',\n",
       "  '257',\n",
       "  'DataDetectors',\n",
       "  '/var/db/datadetectors',\n",
       "  '/usr/bin/false\\n'],\n",
       " ['_captiveagent',\n",
       "  '*',\n",
       "  '258',\n",
       "  '258',\n",
       "  'captiveagent',\n",
       "  '/var/empty',\n",
       "  '/usr/bin/false\\n'],\n",
       " ['_ctkd',\n",
       "  '*',\n",
       "  '259',\n",
       "  '259',\n",
       "  'ctkd Account',\n",
       "  '/var/empty',\n",
       "  '/usr/bin/false\\n'],\n",
       " ['_applepay',\n",
       "  '*',\n",
       "  '260',\n",
       "  '260',\n",
       "  'applepay Account',\n",
       "  '/var/db/applepay',\n",
       "  '/usr/bin/false\\n'],\n",
       " ['_hidd',\n",
       "  '*',\n",
       "  '261',\n",
       "  '261',\n",
       "  'HID Service User',\n",
       "  '/var/db/hidd',\n",
       "  '/usr/bin/false\\n'],\n",
       " ['_cmiodalassistants',\n",
       "  '*',\n",
       "  '262',\n",
       "  '262',\n",
       "  'CoreMedia IO Assistants User',\n",
       "  '/var/db/cmiodalassistants',\n",
       "  '/usr/bin/false\\n'],\n",
       " ['_analyticsd',\n",
       "  '*',\n",
       "  '263',\n",
       "  '263',\n",
       "  'Analytics Daemon',\n",
       "  '/var/db/analyticsd',\n",
       "  '/usr/bin/false\\n'],\n",
       " ['_fpsd',\n",
       "  '*',\n",
       "  '265',\n",
       "  '265',\n",
       "  'FPS Daemon',\n",
       "  '/var/db/fpsd',\n",
       "  '/usr/bin/false\\n'],\n",
       " ['_timed',\n",
       "  '*',\n",
       "  '266',\n",
       "  '266',\n",
       "  'Time Sync Daemon',\n",
       "  '/var/db/timed',\n",
       "  '/usr/bin/false\\n'],\n",
       " ['_nearbyd',\n",
       "  '*',\n",
       "  '268',\n",
       "  '268',\n",
       "  'Proximity and Ranging Daemon',\n",
       "  '/var/db/nearbyd',\n",
       "  '/usr/bin/false\\n'],\n",
       " ['_reportmemoryexception',\n",
       "  '*',\n",
       "  '269',\n",
       "  '269',\n",
       "  'ReportMemoryException',\n",
       "  '/var/db/reportmemoryexception',\n",
       "  '/usr/bin/false\\n'],\n",
       " ['_driverkit',\n",
       "  '*',\n",
       "  '270',\n",
       "  '270',\n",
       "  'DriverKit',\n",
       "  '/var/empty',\n",
       "  '/usr/bin/false\\n']]"
      ]
     },
     "execution_count": 50,
     "metadata": {},
     "output_type": "execute_result"
    }
   ],
   "source": [
    "# I'd like to create a dictionary in which the keys are usernames\n",
    "# and the values are each user's shell\n",
    "\n",
    "[one_line.split(':')[::6]   # use a Python slice\n",
    "for one_line in open('/etc/passwd')\n",
    "if not one_line.startswith('#')]"
   ]
  },
  {
   "cell_type": "code",
   "execution_count": 49,
   "metadata": {},
   "outputs": [
    {
     "data": {
      "text/plain": [
       "{'a': 1, 'b': 2, 'c': 3}"
      ]
     },
     "execution_count": 49,
     "metadata": {},
     "output_type": "execute_result"
    }
   ],
   "source": [
    "mylist = [('a', 1), ('b',2), ('c', 3)]\n",
    "dict(mylist)"
   ]
  },
  {
   "cell_type": "code",
   "execution_count": null,
   "metadata": {},
   "outputs": [],
   "source": []
  }
 ],
 "metadata": {
  "kernelspec": {
   "display_name": "Python 3",
   "language": "python",
   "name": "python3"
  },
  "language_info": {
   "codemirror_mode": {
    "name": "ipython",
    "version": 3
   },
   "file_extension": ".py",
   "mimetype": "text/x-python",
   "name": "python",
   "nbconvert_exporter": "python",
   "pygments_lexer": "ipython3",
   "version": "3.8.5"
  }
 },
 "nbformat": 4,
 "nbformat_minor": 4
}
